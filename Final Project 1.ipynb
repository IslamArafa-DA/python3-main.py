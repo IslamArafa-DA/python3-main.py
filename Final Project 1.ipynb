{
 "cells": [
  {
   "cell_type": "code",
   "execution_count": 9,
   "id": "e7d1a495-ae18-49cf-b47d-d40fd9bf53cc",
   "metadata": {},
   "outputs": [],
   "source": [
    "\n",
    "                     ## Final outlet for programming Numpy Array\n",
    "import numpy as np\n",
    " ###create function to calculate  statistics for 9 numbers as a matrix\n",
    "def calculate(list):\n",
    "    \n",
    "    if len(list) != 9:\n",
    "        return (\"List must contain nine numbers.\")\n",
    "    \n",
    "    array = np.array(list).reshape(3, 3) ### convert list to numpy array\n",
    "    #### Calculation as dictionary and values to list , for array rows, columns and flattened\n",
    "    calculations = {\n",
    "        'mean': [\n",
    "            np.round(array.mean(axis=0),2).tolist(),\n",
    "            np.round(array.mean(axis=1),2).tolist(),\n",
    "            np.round(array.mean(),2).tolist()\n",
    "        ],\n",
    "        'variance': [\n",
    "            np.round(array.var(axis=0),2).tolist(),\n",
    "            np.round(array.var(axis=1),2).tolist(),\n",
    "            np.round(array.var(),2).tolist()\n",
    "        ],\n",
    "        'std_dev': [\n",
    "            np.round(array.std(axis=0),2).tolist(),\n",
    "            np.round(array.std(axis=1),2).tolist(),\n",
    "            np.round(array.std(),2).tolist()\n",
    "        ],\n",
    "        'max_values': [\n",
    "            array.max(axis=0).tolist(),\n",
    "            array.max(axis=1).tolist(),\n",
    "            array.max().tolist()\n",
    "        ],\n",
    "        'min_values': [\n",
    "            array.min(axis=0).tolist(),\n",
    "            array.min(axis=1).tolist(),\n",
    "            array.min().tolist()\n",
    "        ],\n",
    "        'sum_values': [\n",
    "            array.sum(axis=0).tolist(),\n",
    "            array.sum(axis=1).tolist(),\n",
    "            array.sum().tolist()\n",
    "        ]\n",
    "    }\n",
    "    \n",
    "    return calculations"
   ]
  },
  {
   "cell_type": "code",
   "execution_count": 10,
   "id": "a7199469-0f69-47e0-b116-63e6bf8b22d3",
   "metadata": {},
   "outputs": [
    {
     "data": {
      "text/plain": [
       "{'mean': [[4.0, 5.0, 6.0], [2.0, 5.0, 8.0], 5.0],\n",
       " 'variance': [[6.0, 6.0, 6.0], [0.67, 0.67, 0.67], 6.67],\n",
       " 'std_dev': [[2.45, 2.45, 2.45], [0.82, 0.82, 0.82], 2.58],\n",
       " 'max_values': [[7, 8, 9], [3, 6, 9], 9],\n",
       " 'min_values': [[1, 2, 3], [1, 4, 7], 1],\n",
       " 'sum_values': [[12, 15, 18], [6, 15, 24], 45]}"
      ]
     },
     "execution_count": 10,
     "metadata": {},
     "output_type": "execute_result"
    }
   ],
   "source": [
    "calculate([1,2,3,4,5,6,7,8,9])"
   ]
  },
  {
   "cell_type": "code",
   "execution_count": null,
   "id": "ac304bf8-a739-446f-a0c8-fd15a9c85e1e",
   "metadata": {},
   "outputs": [],
   "source": []
  }
 ],
 "metadata": {
  "kernelspec": {
   "display_name": "Python 3 (ipykernel)",
   "language": "python",
   "name": "python3"
  },
  "language_info": {
   "codemirror_mode": {
    "name": "ipython",
    "version": 3
   },
   "file_extension": ".py",
   "mimetype": "text/x-python",
   "name": "python",
   "nbconvert_exporter": "python",
   "pygments_lexer": "ipython3",
   "version": "3.12.4"
  }
 },
 "nbformat": 4,
 "nbformat_minor": 5
}
